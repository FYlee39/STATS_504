{
 "cells": [
  {
   "metadata": {},
   "cell_type": "markdown",
   "source": "# Download dataset",
   "id": "1fc1c74b40be0b2d"
  },
  {
   "metadata": {},
   "cell_type": "code",
   "source": [
    "\n",
    "import requests\n",
    "from win32con import NULLREGION\n",
    "\n",
    "url = \"https://wwwn.cdc.gov/Nchs/Data/Nhanes/Public/2021/DataFiles/DR1IFF_L.xpt\"\n",
    "response = requests.get(url)\n",
    "\n",
    "with open(\"DR1IFF_L.xpt\", \"wb\") as f:\n",
    "    f.write(response.content)\n",
    "\n",
    "print(\"File downloaded successfully.\")"
   ],
   "id": "initial_id",
   "outputs": [],
   "execution_count": null
  },
  {
   "metadata": {
    "ExecuteTime": {
     "end_time": "2025-10-17T19:25:22.396301Z",
     "start_time": "2025-10-17T19:25:18.667015Z"
    }
   },
   "cell_type": "code",
   "source": [
    "import pandas as pd\n",
    "import numpy as np\n",
    "\n",
    "df = pd.read_sas(\"DR1IFF_L.xpt\")\n",
    "\n",
    "# Display basic info\n",
    "print(df.shape)"
   ],
   "id": "7d55f17beb1994b",
   "outputs": [
    {
     "name": "stdout",
     "output_type": "stream",
     "text": [
      "(100116, 84)\n"
     ]
    }
   ],
   "execution_count": 1
  },
  {
   "metadata": {},
   "cell_type": "markdown",
   "source": "# Data Cleaning",
   "id": "21e6fe50d2c267b6"
  },
  {
   "metadata": {
    "ExecuteTime": {
     "end_time": "2025-10-17T19:25:22.427340Z",
     "start_time": "2025-10-17T19:25:22.418233Z"
    }
   },
   "cell_type": "code",
   "source": [
    "clean_df = df[[\"DR1EXMER\", \"DR1_040Z\", \"DR1IKCAL\"]].copy()\n",
    "clean_df.info()"
   ],
   "id": "b2ac5ed178e6ca65",
   "outputs": [
    {
     "name": "stdout",
     "output_type": "stream",
     "text": [
      "<class 'pandas.core.frame.DataFrame'>\n",
      "RangeIndex: 100116 entries, 0 to 100115\n",
      "Data columns (total 3 columns):\n",
      " #   Column    Non-Null Count   Dtype  \n",
      "---  ------    --------------   -----  \n",
      " 0   DR1EXMER  100116 non-null  float64\n",
      " 1   DR1_040Z  99787 non-null   float64\n",
      " 2   DR1IKCAL  99787 non-null   float64\n",
      "dtypes: float64(3)\n",
      "memory usage: 2.3 MB\n"
     ]
    }
   ],
   "execution_count": 2
  },
  {
   "metadata": {
    "ExecuteTime": {
     "end_time": "2025-10-17T19:25:22.443322Z",
     "start_time": "2025-10-17T19:25:22.437480Z"
    }
   },
   "cell_type": "code",
   "source": "clean_df[clean_df[\"DR1IKCAL\"].isna()][\"DR1_040Z\"].isna().sum() == clean_df[clean_df[\"DR1_040Z\"].isna()][\"DR1IKCAL\"].isna().sum()",
   "id": "be9b7c7c99dd78cc",
   "outputs": [
    {
     "data": {
      "text/plain": [
       "np.True_"
      ]
     },
     "execution_count": 3,
     "metadata": {},
     "output_type": "execute_result"
    }
   ],
   "execution_count": 3
  },
  {
   "metadata": {
    "ExecuteTime": {
     "end_time": "2025-10-17T19:25:22.463281Z",
     "start_time": "2025-10-17T19:25:22.457105Z"
    }
   },
   "cell_type": "code",
   "source": [
    "# Drop missing value\n",
    "clean_df.dropna(subset=[\"DR1IKCAL\"], inplace=True)\n",
    "\n",
    "clean_df = clean_df[clean_df[\"DR1_040Z\"] != 9]"
   ],
   "id": "68599d417812bc35",
   "outputs": [],
   "execution_count": 4
  },
  {
   "metadata": {
    "ExecuteTime": {
     "end_time": "2025-10-17T19:25:22.476471Z",
     "start_time": "2025-10-17T19:25:22.471823Z"
    }
   },
   "cell_type": "code",
   "source": "clean_df.info()",
   "id": "5e6b2bb446d7d778",
   "outputs": [
    {
     "name": "stdout",
     "output_type": "stream",
     "text": [
      "<class 'pandas.core.frame.DataFrame'>\n",
      "Index: 99784 entries, 0 to 100115\n",
      "Data columns (total 3 columns):\n",
      " #   Column    Non-Null Count  Dtype  \n",
      "---  ------    --------------  -----  \n",
      " 0   DR1EXMER  99784 non-null  float64\n",
      " 1   DR1_040Z  99784 non-null  float64\n",
      " 2   DR1IKCAL  99784 non-null  float64\n",
      "dtypes: float64(3)\n",
      "memory usage: 3.0 MB\n"
     ]
    }
   ],
   "execution_count": 5
  },
  {
   "metadata": {
    "ExecuteTime": {
     "end_time": "2025-10-17T19:25:22.491972Z",
     "start_time": "2025-10-17T19:25:22.488365Z"
    }
   },
   "cell_type": "code",
   "source": [
    "# Rename columns\n",
    "clean_df.columns = [\"Interviewer_ID\", \"Eat_at_home\", \"Energy\"]\n",
    "\n",
    "clean_df[\"Interviewer_ID\"] = clean_df[\"Interviewer_ID\"].astype(\"int\")\n",
    "clean_df[\"Eat_at_home\"] = clean_df[\"Eat_at_home\"].astype(\"int\")"
   ],
   "id": "e47ccb28dccc301e",
   "outputs": [],
   "execution_count": 6
  },
  {
   "metadata": {
    "ExecuteTime": {
     "end_time": "2025-10-17T19:25:22.513613Z",
     "start_time": "2025-10-17T19:25:22.509101Z"
    }
   },
   "cell_type": "code",
   "source": "clean_df.info()",
   "id": "44ea8090e5b84f",
   "outputs": [
    {
     "name": "stdout",
     "output_type": "stream",
     "text": [
      "<class 'pandas.core.frame.DataFrame'>\n",
      "Index: 99784 entries, 0 to 100115\n",
      "Data columns (total 3 columns):\n",
      " #   Column          Non-Null Count  Dtype  \n",
      "---  ------          --------------  -----  \n",
      " 0   Interviewer_ID  99784 non-null  int64  \n",
      " 1   Eat_at_home     99784 non-null  int64  \n",
      " 2   Energy          99784 non-null  float64\n",
      "dtypes: float64(1), int64(2)\n",
      "memory usage: 3.0 MB\n"
     ]
    }
   ],
   "execution_count": 7
  },
  {
   "metadata": {},
   "cell_type": "markdown",
   "source": "# Descriptive Analysis",
   "id": "4737030bdd89d515"
  },
  {
   "metadata": {
    "ExecuteTime": {
     "end_time": "2025-10-17T19:25:22.532629Z",
     "start_time": "2025-10-17T19:25:22.527464Z"
    }
   },
   "cell_type": "code",
   "source": [
    "eat_at_home = clean_df[clean_df[\"Eat_at_home\"] == 1]\n",
    "eat_away_home = clean_df[clean_df[\"Eat_at_home\"] == 2]"
   ],
   "id": "571b4b2ae973496c",
   "outputs": [],
   "execution_count": 8
  },
  {
   "metadata": {
    "ExecuteTime": {
     "end_time": "2025-10-17T19:25:22.550956Z",
     "start_time": "2025-10-17T19:25:22.547611Z"
    }
   },
   "cell_type": "code",
   "source": "eat_at_home[\"Energy\"].mean(), eat_away_home[\"Energy\"].mean()",
   "id": "6569b448510f3fa",
   "outputs": [
    {
     "data": {
      "text/plain": [
       "(np.float64(128.67346884371875), np.float64(130.7917121046892))"
      ]
     },
     "execution_count": 9,
     "metadata": {},
     "output_type": "execute_result"
    }
   ],
   "execution_count": 9
  },
  {
   "metadata": {
    "ExecuteTime": {
     "end_time": "2025-10-17T19:25:22.575849Z",
     "start_time": "2025-10-17T19:25:22.571593Z"
    }
   },
   "cell_type": "code",
   "source": "eat_at_home[\"Energy\"].std(), eat_away_home[\"Energy\"].std()",
   "id": "eb57786fa5b051f6",
   "outputs": [
    {
     "data": {
      "text/plain": [
       "(np.float64(184.67637726199442), np.float64(179.61356752764596))"
      ]
     },
     "execution_count": 10,
     "metadata": {},
     "output_type": "execute_result"
    }
   ],
   "execution_count": 10
  },
  {
   "metadata": {
    "ExecuteTime": {
     "end_time": "2025-10-17T19:25:22.598482Z",
     "start_time": "2025-10-17T19:25:22.596461Z"
    }
   },
   "cell_type": "code",
   "source": [
    "eat_at_home_energy = eat_at_home[\"Energy\"]\n",
    "eat_away_home_energy = eat_away_home[\"Energy\"]"
   ],
   "id": "37cc686893cee326",
   "outputs": [],
   "execution_count": 11
  },
  {
   "metadata": {
    "ExecuteTime": {
     "end_time": "2025-10-17T19:26:08.422873Z",
     "start_time": "2025-10-17T19:26:08.380513Z"
    }
   },
   "cell_type": "code",
   "source": [
    "import matplotlib.pyplot as plt\n",
    "\n",
    "plt.boxplot([eat_at_home_energy, eat_away_home_energy],\n",
    "            showfliers=False,\n",
    "            tick_labels=[\"At Home\", \"Away From Home\"])\n",
    "plt.title(\"Box Plot of Energy Intake\")\n",
    "plt.ylabel(\"Energy Intake\")\n",
    "plt.xlabel(\"Food Taken Location\")\n",
    "plt.grid(True)\n",
    "plt.show()"
   ],
   "id": "f1d46fc7c13943f1",
   "outputs": [
    {
     "data": {
      "text/plain": [
       "<Figure size 640x480 with 1 Axes>"
      ],
      "image/png": "[encoded data removed]"
     },
     "metadata": {},
     "output_type": "display_data"
    }
   ],
   "execution_count": 14
  },
  {
   "metadata": {},
   "cell_type": "markdown",
   "source": "# Inferential Statistics",
   "id": "d9e34d856cce2f2d"
  },
  {
   "metadata": {
    "ExecuteTime": {
     "end_time": "2025-10-17T19:25:25.473909Z",
     "start_time": "2025-10-17T19:25:24.779732Z"
    }
   },
   "cell_type": "code",
   "source": [
    "from scipy import stats\n",
    "\n",
    "t_stat, p_val = stats.ttest_ind(eat_at_home_energy, eat_away_home_energy)\n",
    "\n",
    "print(f\"T-statistic: {t_stat:.4f}\")\n",
    "print(f\"P-value: {p_val:.4f}\")\n",
    "\n",
    "if p_val < 0.05:\n",
    "    print(\"✅ Significant difference between groups.\")\n",
    "else:\n",
    "    print(\"❌ No significant difference between groups.\")\n"
   ],
   "id": "28e098f87ea46de0",
   "outputs": [
    {
     "name": "stdout",
     "output_type": "stream",
     "text": [
      "T-statistic: -1.5756\n",
      "P-value: 0.1151\n",
      "❌ No significant difference between groups.\n"
     ]
    }
   ],
   "execution_count": 13
  }
 ],
 "metadata": {
  "kernelspec": {
   "display_name": "Python 3",
   "language": "python",
   "name": "python3"
  },
  "language_info": {
   "codemirror_mode": {
    "name": "ipython",
    "version": 2
   },
   "file_extension": ".py",
   "mimetype": "text/x-python",
   "name": "python",
   "nbconvert_exporter": "python",
   "pygments_lexer": "ipython2",
   "version": "2.7.6"
  }
 },
 "nbformat": 4,
 "nbformat_minor": 5
}
